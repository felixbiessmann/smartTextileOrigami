{
 "cells": [
  {
   "cell_type": "markdown",
   "metadata": {},
   "source": [
    "# Machine Learning Client\n",
    "\n",
    "This is a rudimentary client that trains a ML model on sensor data. It is used in three steps:\n",
    "\n",
    "\n",
    "* **Training Data Recording Phase** \n",
    "\n",
    "The client receives some sensor data from PureData along with a to-be-predicted label in the last position of the list from PureData. \n",
    "\n",
    "* **Training Phase** \n",
    "\n",
    "A ML model is then learned on that data to predict the labels provided during the training process\n",
    "\n",
    "* **Prediction Phase** \n",
    "\n",
    "Finally the client uses the learned ML model to predict one of the learned categories from new sensor data. The prediction is sent via UDP in OSC format to PureData"
   ]
  },
  {
   "cell_type": "markdown",
   "metadata": {},
   "source": [
    "## Training Data Recording"
   ]
  },
  {
   "cell_type": "code",
   "execution_count": null,
   "metadata": {
    "scrolled": true
   },
   "outputs": [],
   "source": [
    "# This should not be necessary, but in case the libraries are not installed, \n",
    "!pip install -r requirements.txt"
   ]
  },
  {
   "cell_type": "code",
   "execution_count": null,
   "metadata": {
    "scrolled": true
   },
   "outputs": [],
   "source": [
    "import socket\n",
    "import numpy as np\n",
    "\n",
    "localIP     = \"127.0.0.1\"\n",
    "localPortData   = 20007\n",
    "\n",
    "bufferSize  = 64\n",
    "\n",
    "# Create a datagram socket\n",
    "UDPServerSocketData = socket.socket(family=socket.AF_INET, type=socket.SOCK_DGRAM)\n",
    "\n",
    "# Bind to address and ip\n",
    "UDPServerSocketData.bind((localIP, localPortData))\n",
    "# UDPServerSocketData.settimeout(2)\n",
    "print(\"UDP Data server up and listening\")\n",
    "\n",
    "def parse_message(msg):\n",
    "    return [float(x) for x in msg.strip().strip(';').split(\" \")]\n",
    "\n",
    "data_and_labels = []\n",
    "\n",
    "fh = open(f'recording-training-data-{np.random.randint(0,1000)}.txt','w')\n",
    "\n",
    "# Listen for incoming datagrams\n",
    "try:\n",
    "    while(True):\n",
    "        messageData, addressData = UDPServerSocketData.recvfrom(bufferSize)\n",
    "        fh.write(messageData.decode())\n",
    "        data_and_labels.append(parse_message(messageData.decode()))\n",
    "finally:\n",
    "    UDPServerSocketData.close()\n",
    "    fh.close()"
   ]
  },
  {
   "cell_type": "code",
   "execution_count": null,
   "metadata": {},
   "outputs": [],
   "source": [
    "data_and_labels"
   ]
  },
  {
   "cell_type": "markdown",
   "metadata": {},
   "source": [
    "## Training ML Model\n",
    "\n",
    "Replace the (rather simple) [NearestCentroid Classifier](https://scikit-learn.org/stable/modules/generated/sklearn.neighbors.NearestCentroid.html) with [any sklearn classifier](https://scikit-learn.org/stable/supervised_learning.html)"
   ]
  },
  {
   "cell_type": "code",
   "execution_count": null,
   "metadata": {
    "scrolled": true
   },
   "outputs": [],
   "source": [
    "from sklearn.neighbors import NearestCentroid\n",
    "from sklearn.metrics import classification_report\n",
    "Xy = np.array(data_and_labels)\n",
    "X, y = Xy[:,:-1], Xy[:,-1]\n",
    "clf = NearestCentroid().fit(X,y)\n",
    "print(classification_report(y, clf.predict(X)))"
   ]
  },
  {
   "cell_type": "markdown",
   "metadata": {},
   "source": [
    "## Prediction Phase"
   ]
  },
  {
   "cell_type": "code",
   "execution_count": null,
   "metadata": {
    "scrolled": true
   },
   "outputs": [],
   "source": [
    "from pythonosc import udp_client\n",
    "localPortPrediction = 7001\n",
    "serverAddressPort   = (localIP, localPortPrediction)\n",
    "osc_client = udp_client.SimpleUDPClient(*serverAddressPort)\n",
    "\n",
    "# Create a datagram socket\n",
    "UDPServerSocketData = socket.socket(family=socket.AF_INET, type=socket.SOCK_DGRAM)\n",
    "\n",
    "# Bind to address and ip\n",
    "UDPServerSocketData.bind((localIP, localPortData))\n",
    "print(\"UDP Data server up and listening\")\n",
    "\n",
    "# Create a datagram socket\n",
    "UDPClientSocketPrediction = socket.socket(family=socket.AF_INET, type=socket.SOCK_DGRAM)\n",
    "\n",
    "print(\"UDP Prediction client ready\")\n",
    "\n",
    "fh = open(f'recording-during-prediction-{np.random.randint(0,1000)}.txt','w')\n",
    "# Listen for incoming datagrams\n",
    "try:\n",
    "    while(True):\n",
    "        message, address = UDPServerSocketData.recvfrom(bufferSize)\n",
    "        fh.write(message.decode())\n",
    "        prediction = clf.predict([parse_message(message.decode())[:-1]])[0]\n",
    "        bytesToSend = str.encode(f\"{prediction}\")\n",
    "        print(f\"data {message} prediction {prediction}\")\n",
    "        # send prediction to server\n",
    "        osc_client.send_message(\"/prediction\", prediction)\n",
    "\n",
    "finally:\n",
    "    fh.close()\n",
    "    UDPServerSocketData.close()\n",
    "    UDPServerSocketPrediction.close()"
   ]
  }
 ],
 "metadata": {
  "kernelspec": {
   "display_name": "Python 3",
   "language": "python",
   "name": "python3"
  },
  "language_info": {
   "codemirror_mode": {
    "name": "ipython",
    "version": 3
   },
   "file_extension": ".py",
   "mimetype": "text/x-python",
   "name": "python",
   "nbconvert_exporter": "python",
   "pygments_lexer": "ipython3",
   "version": "3.7.4"
  }
 },
 "nbformat": 4,
 "nbformat_minor": 2
}
